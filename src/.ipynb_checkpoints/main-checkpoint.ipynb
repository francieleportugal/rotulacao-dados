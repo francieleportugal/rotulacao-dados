{
 "cells": [
  {
   "cell_type": "code",
   "execution_count": 1,
   "metadata": {},
   "outputs": [],
   "source": [
    "import pandas as pd\n",
    "import utils\n",
    "from DataLabeler import DataLabeler"
   ]
  },
  {
   "cell_type": "code",
   "execution_count": 2,
   "metadata": {},
   "outputs": [],
   "source": [
    "PATH_DATABASE = '/home/franciele/Projetos/rotulacao-dados/src/data/data_base.csv'\n",
    "PATH_MUNICIPIO = '/home/franciele/Projetos/rotulacao-dados/src/data/{}.csv'\n",
    "PATH_LABELED = '/home/franciele/Projetos/rotulacao-dados/src/data_labeled/{}.csv'"
   ]
  },
  {
   "cell_type": "code",
   "execution_count": 3,
   "metadata": {},
   "outputs": [],
   "source": [
    "dataLabeler = DataLabeler()\n",
    "df = pd.read_csv(PATH_DATABASE)\n",
    "list_municipios = df.municipio.unique()"
   ]
  },
  {
   "cell_type": "code",
   "execution_count": null,
   "metadata": {},
   "outputs": [],
   "source": [
    "for municipio in list_municipios:\n",
    "    if (municipio == 'SALVADOR'):\n",
    "        print(municipio)\n",
    "        # utils.clean_log(municipio)\n",
    "        # log = utils.create_log(municipio)\n",
    "\n",
    "        # df_municipio = pd.read_csv(PATH_MUNICIPIO.format(municipio))\n",
    "        # dataLabeler.mark_database(df_municipio)\n",
    "\n",
    "        # groups = dataLabeler.find_groups(list(df_municipio['label']), log)\n",
    "        \n",
    "        # column_final_label = dataLabeler.get_column_label(len(list(df_municipio['label'])), groups)\n",
    "        \n",
    "        # df_municipio['final_label'] = column_final_label \n",
    "        \n",
    "        # df_municipio = df_municipio.drop(columns=['Unnamed: 0', 'id', 'municipio', 'label'])\n",
    "        # print(df_municipio.head())\n",
    "        # df_municipio.to_csv(PATH_LABELED.format(municipio))\n",
    "\n",
    "        data_labeled = pd.read_csv(PATH_LABELED.format(municipio))\n",
    "        print(data_labeled.head())\n",
    "        utils.clean_figure(municipio)\n",
    "\n",
    "\n",
    "        # data = [\n",
    "        #     ['01/01/2019', '3', 'Ciclo'],\n",
    "        #     ['02/01/2019', '2', 'Não ciclo'],\n",
    "        #     ['03/01/2019', '3', 'Ciclo']\n",
    "        # ] \n",
    "  \n",
    "        # teste = pd.DataFrame(data, columns = ['data', 'quantidade_notificacoes', 'final_label']) \n",
    "        # print(teste)\n",
    "        utils.save_figure(data_labeled, municipio)\n",
    "\n",
    "        # utils.close_log(log)"
   ]
  }
 ],
 "metadata": {
  "kernelspec": {
   "display_name": "Python 3",
   "language": "python",
   "name": "python3"
  },
  "language_info": {
   "codemirror_mode": {
    "name": "ipython",
    "version": 3
   },
   "file_extension": ".py",
   "mimetype": "text/x-python",
   "name": "python",
   "nbconvert_exporter": "python",
   "pygments_lexer": "ipython3",
   "version": "3.6.8"
  }
 },
 "nbformat": 4,
 "nbformat_minor": 2
}
